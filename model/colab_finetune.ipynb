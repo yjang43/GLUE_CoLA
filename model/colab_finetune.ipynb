{
  "nbformat": 4,
  "nbformat_minor": 0,
  "metadata": {
    "colab": {
      "name": "BERTs_CoLA.ipynb",
      "provenance": []
    },
    "kernelspec": {
      "name": "python3",
      "display_name": "Python 3"
    },
    "accelerator": "GPU"
  },
  "cells": [
    {
      "cell_type": "code",
      "metadata": {
        "id": "pmmNTxk9xtP5",
        "collapsed": true
      },
      "source": [
        "from google.colab import files\n",
        "! git clone https://github.com/huggingface/transformers\n",
        "! pip install transformers/.\n"
      ],
      "execution_count": null,
      "outputs": []
    },
    {
      "cell_type": "code",
      "metadata": {
        "id": "HGkclWHZxuwS",
        "collapsed": true
      },
      "source": [
        "! pip install -r transformers/examples/text-classification/requirements.txt"
      ],
      "execution_count": null,
      "outputs": []
    },
    {
      "cell_type": "code",
      "metadata": {
        "id": "mqJCfNwpOD08"
      },
      "source": [
        "from google.colab import auth\n",
        "from googleapiclient.http import MediaFileUpload\n",
        "from googleapiclient.discovery import build\n",
        "\n",
        "auth.authenticate_user()\n",
        "\n",
        "drive_service = build('drive', 'v3')\n",
        "\n",
        "def save_file_to_drive(name, path):\n",
        "    file_metadata = {'name': name, 'mimeType': 'application/octet-stream'}\n",
        "    media = MediaFileUpload(path, mimetype='application/octet-stream', resumable=True)\n",
        "    created = drive_service.files().create(body=file_metadata,\n",
        "                                   media_body=media,\n",
        "                                   fields='id').execute()\n",
        "\n",
        "    print('File ID: {}'.format(created.get('id')))\n",
        "\n",
        "    return created"
      ],
      "execution_count": null,
      "outputs": []
    },
    {
      "cell_type": "code",
      "metadata": {
        "id": "0hIKGgKYybkB",
        "collapsed": true
      },
      "source": [
        "# fine-tune bert-base-cased\n",
        "! python run_glue.py --model_name_or_path bert-base-cased --task_name cola --do_train --do_eval --max_seq_length 128 --per_device_train_batch_size 32 --learning_rate 2e-5 --num_train_epochs 3 --output_dir bert-base-cased\n",
        "! zip -r bert-base-cased.zip bert-base-cased\n",
        "# files.download(\"bert-base-cased.zip\")\n",
        "save_file_to_drive('bert-base-cased.zip', 'bert-base-cased.zip')"
      ],
      "execution_count": null,
      "outputs": []
    },
    {
      "cell_type": "code",
      "metadata": {
        "id": "rTTbQDMHzP0Q",
        "collapsed": true
      },
      "source": [
        "# fine-tune roberta-base\n",
        "! python run_glue.py --model_name_or_path roberta-base --task_name cola --do_train --do_eval --max_seq_length 128 --per_device_train_batch_size 32 --learning_rate 2e-5 --num_train_epochs 3 --output_dir roberta-base\n",
        "! zip -r roberta-base.zip roberta-base\n",
        "# files.download(\"roberta-base.zip\")\n",
        "save_file_to_drive('roberta-base.zip', 'roberta-base.zip')"
      ],
      "execution_count": null,
      "outputs": []
    },
    {
      "cell_type": "code",
      "metadata": {
        "id": "mBvn9qCz_Htt",
        "collapsed": true
      },
      "source": [
        "# fine-tune distil-base-cased\n",
        "! python run_glue.py --model_name_or_path distilbert-base-cased --task_name cola --do_train --do_eval --max_seq_length 128 --per_device_train_batch_size 32 --learning_rate 2e-5 --num_train_epochs 3 --output_dir distilbert-base-cased\n",
        "! zip -r distilbert-base-cased.zip distilbert-base-cased\n",
        "# files.download(\"distilbert-base-cased.zip\")\n",
        "save_file_to_drive('distilbert-base-cased.zip', 'distilbert-base-cased.zip')"
      ],
      "execution_count": null,
      "outputs": []
    }
  ]
}